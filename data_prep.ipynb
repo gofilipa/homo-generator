{
 "cells": [
  {
   "cell_type": "code",
   "execution_count": 1,
   "id": "5114b65f",
   "metadata": {},
   "outputs": [],
   "source": [
    "import json\n",
    "import pandas as pd"
   ]
  },
  {
   "cell_type": "code",
   "execution_count": 2,
   "id": "4a5e4d84",
   "metadata": {},
   "outputs": [],
   "source": [
    "data = json.load(open('./train/homo.jsonld'))"
   ]
  },
  {
   "cell_type": "code",
   "execution_count": 3,
   "id": "4e58296d",
   "metadata": {},
   "outputs": [],
   "source": [
    "df = pd.DataFrame(data['@graph'])"
   ]
  },
  {
   "cell_type": "code",
   "execution_count": 4,
   "id": "b78cb60e",
   "metadata": {},
   "outputs": [],
   "source": [
    "df_defs = df['rdfs:comment']"
   ]
  },
  {
   "cell_type": "code",
   "execution_count": 5,
   "id": "111bcd58",
   "metadata": {},
   "outputs": [
    {
     "data": {
      "text/plain": [
       "0       People with 17-beta hydroxysteroid dehydrogena...\n",
       "1       Term used to refer to a wide range of variatio...\n",
       "2       Abbreviation used to describe Two-Spirit peopl...\n",
       "3       Acronym used to describe lesbians, gay men, bi...\n",
       "4       Groups of people who share the experience of b...\n",
       "                              ...                        \n",
       "2827                               Gay men who are white.\n",
       "2828                       Intersex people who are white.\n",
       "2829                              Lesbians who are white.\n",
       "2830                          Queer people who are white.\n",
       "2831                    Transgender people who are white.\n",
       "Name: rdfs:comment, Length: 2832, dtype: object"
      ]
     },
     "execution_count": 5,
     "metadata": {},
     "output_type": "execute_result"
    }
   ],
   "source": [
    "df_defs"
   ]
  },
  {
   "cell_type": "code",
   "execution_count": 9,
   "id": "c861ada7",
   "metadata": {},
   "outputs": [],
   "source": [
    "df_subset = df_defs[:20]"
   ]
  },
  {
   "cell_type": "code",
   "execution_count": 10,
   "id": "412d6666",
   "metadata": {},
   "outputs": [
    {
     "data": {
      "text/plain": [
       "0     People with 17-beta hydroxysteroid dehydrogena...\n",
       "1     Term used to refer to a wide range of variatio...\n",
       "2     Abbreviation used to describe Two-Spirit peopl...\n",
       "3     Acronym used to describe lesbians, gay men, bi...\n",
       "4     Groups of people who share the experience of b...\n",
       "5     Groups of people who share the experience of b...\n",
       "6     Groups of people who share the experience of b...\n",
       "7     Groups of people who share the experience of b...\n",
       "8     Groups of people who share the experience of b...\n",
       "9     A group of Two-Spirit people united by their s...\n",
       "10    People with 5-alpha reductase deficiency, abbr...\n",
       "11    69ing refers to an act of shared oral sex betw...\n",
       "12         Sexual activities performed using the mouth.\n",
       "13    A sexual act involving the use of the mouth an...\n",
       "14    A sexual act involving the use of the mouth an...\n",
       "15    Asexual people who belong to one or more of th...\n",
       "16    LGBTQ+ people who belong to one or more of the...\n",
       "17    Bisexual people who belong to one or more of t...\n",
       "18    Gay men who belong to one or more of the vario...\n",
       "19    Intersex people who belong to one or more of t...\n",
       "Name: rdfs:comment, dtype: object"
      ]
     },
     "execution_count": 10,
     "metadata": {},
     "output_type": "execute_result"
    }
   ],
   "source": [
    "df_subset"
   ]
  },
  {
   "cell_type": "code",
   "execution_count": 11,
   "id": "dda1fd72",
   "metadata": {},
   "outputs": [],
   "source": [
    "df_subset.to_csv('train/train_subset.txt')"
   ]
  },
  {
   "cell_type": "code",
   "execution_count": 6,
   "id": "15e3bea3",
   "metadata": {},
   "outputs": [],
   "source": [
    "df_defs.to_csv('train/train.txt')"
   ]
  },
  {
   "cell_type": "code",
   "execution_count": null,
   "id": "936ed9da",
   "metadata": {},
   "outputs": [],
   "source": []
  }
 ],
 "metadata": {
  "kernelspec": {
   "display_name": "Python 3 (ipykernel)",
   "language": "python",
   "name": "python3"
  },
  "language_info": {
   "codemirror_mode": {
    "name": "ipython",
    "version": 3
   },
   "file_extension": ".py",
   "mimetype": "text/x-python",
   "name": "python",
   "nbconvert_exporter": "python",
   "pygments_lexer": "ipython3",
   "version": "3.11.0"
  }
 },
 "nbformat": 4,
 "nbformat_minor": 5
}
